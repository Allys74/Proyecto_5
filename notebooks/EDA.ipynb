{
 "cells": [
  {
   "cell_type": "markdown",
   "metadata": {},
   "source": [
    "## Experimentando con plotly-express"
   ]
  },
  {
   "cell_type": "markdown",
   "metadata": {},
   "source": [
    "### Importar librerias"
   ]
  },
  {
   "cell_type": "code",
   "execution_count": null,
   "metadata": {},
   "outputs": [],
   "source": [
    "import pandas as pd\n",
    "import plotly.express as px\n",
    "import streamlit as st"
   ]
  },
  {
   "cell_type": "markdown",
   "metadata": {},
   "source": [
    "### Leer los Datos"
   ]
  },
  {
   "cell_type": "code",
   "execution_count": null,
   "metadata": {},
   "outputs": [],
   "source": [
    "car_data = pd.read_csv(\n",
    "    '/Users/.../Proyecto_5/vehicles_us.csv')    # puedes cambiar la ruta\n",
    "\n",
    "car_data.info()"
   ]
  },
  {
   "cell_type": "code",
   "execution_count": null,
   "metadata": {},
   "outputs": [],
   "source": [
    "# revisar duplicados\n",
    "car_data.duplicated().sum()"
   ]
  },
  {
   "cell_type": "code",
   "execution_count": null,
   "metadata": {},
   "outputs": [],
   "source": [
    "print(len(car_data))\n",
    "\n",
    "print('\\n', car_data.head())"
   ]
  },
  {
   "cell_type": "markdown",
   "metadata": {},
   "source": [
    "### Modelos con más de 1000 menciones"
   ]
  },
  {
   "cell_type": "code",
   "execution_count": null,
   "metadata": {},
   "outputs": [],
   "source": [
    "# agrupo por modelo\n",
    "groupby_model = car_data.groupby('model')['model'].count()\n",
    "groupby_model"
   ]
  },
  {
   "cell_type": "code",
   "execution_count": null,
   "metadata": {},
   "outputs": [],
   "source": [
    "# enlisto los modelos que tengan más de 1000 menciones\n",
    "thousand_ads = groupby_model[groupby_model > 1000].index\n",
    "thousand_ads"
   ]
  },
  {
   "cell_type": "code",
   "execution_count": null,
   "metadata": {},
   "outputs": [],
   "source": [
    "# presento la tabla con los modelos mencionados en la lista\n",
    "models = car_data[car_data['model'].isin(thousand_ads)].sort_values('model')\n",
    "models"
   ]
  },
  {
   "cell_type": "markdown",
   "metadata": {},
   "source": [
    "### Tipo de Vehículo por Modelo"
   ]
  },
  {
   "cell_type": "code",
   "execution_count": null,
   "metadata": {},
   "outputs": [],
   "source": [
    "# Debo categorizar los modelos por marca para abreviar el gráfico\n",
    "# Primero reviso los modelos\n",
    "temporary_list = car_data['model'].sort_values().unique()\n",
    "temporary_list"
   ]
  },
  {
   "cell_type": "code",
   "execution_count": null,
   "metadata": {},
   "outputs": [],
   "source": [
    "# hago una lista de las marcas\n",
    "manufacturer = ['acura', 'bmw', 'buick', 'cadillac', 'chevrolet', 'chrysler', \n",
    "                'dodge', 'ford', 'gmc', 'honda', 'hyundai', 'jeep', 'kia', \n",
    "                'mercedes-benz benze', 'nissan', 'ram', 'subaru', 'toyota', 'volkswagen']\n",
    "\n",
    "# Puedo crear un directorio\n",
    "car_model = {marca:[] for marca in manufacturer}       \n",
    "\n",
    "for modelo in car_data['model'].unique():       # clasifico los modelos\n",
    "    for marca in car_model:  \n",
    "        if marca in modelo:\n",
    "            car_model[marca].append(modelo)     # añadir al directorio\n",
    "car_model"
   ]
  },
  {
   "cell_type": "code",
   "execution_count": null,
   "metadata": {},
   "outputs": [],
   "source": [
    "# o puedo crear una nueva columna de marcas\n",
    "manufacturer = ['acura', 'bmw', 'buick', 'cadillac', 'chevrolet', 'chrysler', \n",
    "                'dodge', 'ford', 'gmc', 'honda', 'hyundai', 'jeep', 'kia', \n",
    "                'mercedes-benz benze', 'nissan', 'ram', 'subaru', 'toyota', 'volkswagen']\n",
    "\n",
    "new_colum = []\n",
    "for modelo in car_data['model']:       # clasifico los modelos\n",
    "    for marca in manufacturer:  \n",
    "        if marca in modelo.lower():\n",
    "            if marca == 'mercedes-benz benze':\n",
    "                new_colum.append('mercedes-benz')\n",
    "            else:\n",
    "                new_colum.append(marca)\n",
    "                \n",
    "car_data['manufacturer'] = new_colum    # Creo nueva columna"
   ]
  },
  {
   "cell_type": "code",
   "execution_count": null,
   "metadata": {},
   "outputs": [],
   "source": [
    "bars_model = px.histogram(car_data.sort_values(\n",
    "    by='model', ascending=True), x='manufacturer', color='type')\n",
    "bars_model.show()"
   ]
  },
  {
   "cell_type": "markdown",
   "metadata": {},
   "source": [
    "### Año del modelo vs la condición"
   ]
  },
  {
   "cell_type": "code",
   "execution_count": null,
   "metadata": {},
   "outputs": [],
   "source": [
    "# Histograma Año del modelo vs la condición\n",
    "hist_condition = px.histogram(car_data, x='model_year', color='condition')"
   ]
  },
  {
   "cell_type": "code",
   "execution_count": null,
   "metadata": {},
   "outputs": [],
   "source": [
    "# st.plotly_chart(fig, use_container_width=True)\n",
    "hist_condition.show()"
   ]
  },
  {
   "cell_type": "code",
   "execution_count": null,
   "metadata": {},
   "outputs": [],
   "source": [
    "car_data.info()"
   ]
  },
  {
   "cell_type": "markdown",
   "metadata": {},
   "source": [
    "### Comparar Distribución de Precio entre Modelos"
   ]
  },
  {
   "cell_type": "code",
   "execution_count": null,
   "metadata": {},
   "outputs": [],
   "source": [
    "# primero creo las variables opcionales\n",
    "option_1 = 'bmw'\n",
    "option_2 = 'acura'\n",
    "# luego condiciono la busqueda con las opciones\n",
    "options = car_data[(car_data['manufacturer'] == option_1) | (car_data['manufacturer'] == option_2)]\n",
    "price_models = px.histogram(options, x='price',color='manufacturer')    # Creo el histograma\n",
    "price_models"
   ]
  }
 ],
 "metadata": {
  "kernelspec": {
   "display_name": "vehicles_env",
   "language": "python",
   "name": "python3"
  },
  "language_info": {
   "codemirror_mode": {
    "name": "ipython",
    "version": 3
   },
   "file_extension": ".py",
   "mimetype": "text/x-python",
   "name": "python",
   "nbconvert_exporter": "python",
   "pygments_lexer": "ipython3",
   "version": "3.12.4"
  }
 },
 "nbformat": 4,
 "nbformat_minor": 2
}
